{
  "nbformat": 4,
  "nbformat_minor": 0,
  "metadata": {
    "colab": {
      "provenance": []
    },
    "kernelspec": {
      "name": "python3",
      "display_name": "Python 3"
    },
    "language_info": {
      "name": "python"
    }
  },
  "cells": [
    {
      "cell_type": "markdown",
      "source": [
        "# **Files, exceptional handling, logging and memory management - Assignment - Module 06**"
      ],
      "metadata": {
        "id": "_bmeZ1VgyDoS"
      }
    },
    {
      "cell_type": "markdown",
      "source": [
        "# Files, exceptional handling, logging and memory management Questions"
      ],
      "metadata": {
        "id": "pzIAjgk3yQJZ"
      }
    },
    {
      "cell_type": "markdown",
      "source": [
        "Q1. What is the difference between interpreted and compiled languages?\n",
        "- Interpreted Language: A programming language where code is executed line-by-line by an interpreter without converting it into machine code beforehand.\n",
        "- Compiled Language: A programming language where code is translated into machine code by a compiler before execution, resulting in a standalone executable."
      ],
      "metadata": {
        "id": "5--qbWxLyS-3"
      }
    },
    {
      "cell_type": "markdown",
      "source": [
        "Q2. What is exception handling in Python?\n",
        "- Exception Handling in Python: It is a mechanism to handle runtime errors, allowing the program to continue execution or terminate gracefully by using constructs like try, except, else, and finally."
      ],
      "metadata": {
        "id": "ZGJnEWTzy2nh"
      }
    },
    {
      "cell_type": "markdown",
      "source": [
        "Q3. What is the purpose of the finally block in exception handling?\n",
        "- Purpose of the finally block: The finally block is used to execute cleanup or finalization code, ensuring it runs regardless of whether an exception occurred or not."
      ],
      "metadata": {
        "id": "Ta68SqH2y8DY"
      }
    },
    {
      "cell_type": "markdown",
      "source": [
        "Q4. What is logging in Python?\n",
        "- Logging is a module in Python used to record messages, warnings, errors, and debugging information, providing a way to track events during program execution."
      ],
      "metadata": {
        "id": "sPicQhnBzIDY"
      }
    },
    {
      "cell_type": "markdown",
      "source": [
        "Q5. What is the significance of the del method in Python?\n",
        "- The del method is a destructor called automatically when an object is deleted or goes out of scope, allowing for cleanup of resources like closing files or releasing memory."
      ],
      "metadata": {
        "id": "o_h6G18tzSZP"
      }
    },
    {
      "cell_type": "markdown",
      "source": [
        "Q6. What is the difference between import and from ... import in Python?\n",
        "- Import: Imports the entire module, requiring you to use the module name as a prefix to access its attributes or functions.\n",
        "- From ... import: Imports specific attributes or functions from a module, allowing direct access without the module name as a prefix."
      ],
      "metadata": {
        "id": "Pcysj4ykzbwQ"
      }
    },
    {
      "cell_type": "markdown",
      "source": [
        "Q7. How can you handle multiple exceptions in Python?\n",
        "- It is the process of managing multiple potential error types in a try block using separate except clauses or a single clause with a tuple of exception types."
      ],
      "metadata": {
        "id": "3JkeB1bLzyeA"
      }
    },
    {
      "cell_type": "markdown",
      "source": [
        "Q8. What is the purpose of the with statement when handling files in Python?\n",
        "- It is used to ensure proper acquisition and release of resources, like automatically closing a file after its operations are completed."
      ],
      "metadata": {
        "id": "9Uj84AHx0F2_"
      }
    },
    {
      "cell_type": "markdown",
      "source": [
        "Q9. What is the difference between multithreading and multiprocessing?\n",
        "- Multithreading: It is the execution of multiple threads within a single process, sharing the same memory space.\n",
        "- Multiprocessing: It is the execution of multiple processes, each with its own memory space, allowing parallelism on multi-core systems."
      ],
      "metadata": {
        "id": "zKZAUVJD0QpG"
      }
    },
    {
      "cell_type": "markdown",
      "source": [
        "Q10. What are the advantages of using logging in a program?\n",
        "- Error Tracking: Helps track errors and exceptions in the program for easier debugging.\n",
        "- Debugging: Provides detailed information about the program's execution flow, which aids in debugging.\n",
        "- Persistence: Logs events and errors persistently, even after the program ends, allowing later analysis.\n",
        "- Level-based Logging: Allows different levels of logging (e.g., DEBUG, INFO, WARNING, ERROR), helping control the verbosity of log messages.\n",
        "- Performance Monitoring: Can be used to monitor performance and identify bottlenecks in the program."
      ],
      "metadata": {
        "id": "uaZgFiPN0YXm"
      }
    },
    {
      "cell_type": "markdown",
      "source": [
        "Q11. What is memory management in Python?\n",
        "- Memory Management in Python: It is the process of efficiently allocating, using, and freeing memory during program execution. Python handles memory management automatically through techniques like reference counting and garbage collection."
      ],
      "metadata": {
        "id": "JK7DFnQD0eDm"
      }
    },
    {
      "cell_type": "markdown",
      "source": [
        "Q12. What are the basic steps involved in exception handling in Python?\n",
        "- Try block: Write the code that may raise an exception inside the try block.\n",
        "- Except block: Catch and handle the exception using the except block.\n"
      ],
      "metadata": {
        "id": "dYxWGpFI0sMF"
      }
    },
    {
      "cell_type": "markdown",
      "source": [
        "Q13. Why is memory management important in Python?\n",
        "- Memory management is important in Python because it ensures efficient use of memory, preventing memory leaks, optimizing performance, and maintaining system stability by automatically managing the allocation and deallocation of memory resources."
      ],
      "metadata": {
        "id": "hjeHc7_X023M"
      }
    },
    {
      "cell_type": "markdown",
      "source": [
        "Q14. What is the role of try and except in exception handling?\n",
        "- try block: It contains the code that might raise an exception. If an error occurs, the control is transferred to the except block.\n",
        "- except block: It handles the exception raised in the try block, allowing the program to continue running without crashing."
      ],
      "metadata": {
        "id": "jEomjLce0_cd"
      }
    },
    {
      "cell_type": "markdown",
      "source": [
        "Q15. How does Python's garbage collection system work?\n",
        "- Reference Counting: Each object has a reference count that tracks how many references point to it. When the count reaches zero, the object is deleted.\n",
        "\n",
        "- Garbage Collection: Python uses a cyclic garbage collector to detect and collect objects that are no longer in use but are still referenced due to reference cycles. The garbage collector runs periodically to reclaim memory."
      ],
      "metadata": {
        "id": "f66pOsep1F9-"
      }
    },
    {
      "cell_type": "markdown",
      "source": [
        "Q16. What is the purpose of the else block in exception handling?\n",
        "-\n",
        "Purpose of the else block in exception handling: The else block is executed if no exception is raised in the try block, allowing you to define code that should run only when the try block succeeds without errors."
      ],
      "metadata": {
        "id": "o9HkM4Ar1WVU"
      }
    },
    {
      "cell_type": "markdown",
      "source": [
        "Q17. What are the common logging levels in Python?\n",
        "- DEBUG: Detailed information, typically used for diagnosing problems.\n",
        "- INFO: General information about program execution, useful for tracking progress.\n",
        "- WARNING: Indicates a potential issue that doesn’t stop the program but may need attention.\n",
        "- ERROR: Indicates a serious problem that has caused a failure in part of the program.\n",
        "- CRITICAL: A very serious error that has caused the program to crash or requires immediate attention."
      ],
      "metadata": {
        "id": "uwXRHziA1gce"
      }
    },
    {
      "cell_type": "markdown",
      "source": [
        "Q18. What is the difference between os.fork() and multiprocessing in Python?\n",
        "- os.fork(): It is a system call that creates a child process by duplicating the current process. The child process runs independently, but it shares the same memory space as the parent process. It is available only on Unix-like systems (Linux, macOS).\n",
        "\n",
        "- multiprocessing: It provides a higher-level interface for creating and managing processes. It allows true parallelism by creating separate memory spaces for each process, avoiding shared memory issues. It is cross-platform and works on both Unix-like systems and Windows"
      ],
      "metadata": {
        "id": "8XTcxe0B1qqE"
      }
    },
    {
      "cell_type": "markdown",
      "source": [
        "Q19. What is the importance of closing a file in Python?\n",
        "- Resource Release: Closing a file ensures that system resources, such as file handles, are released properly.\n",
        "- Data Integrity: It ensures all buffered data is written to the file, preventing data loss.\n",
        "- Prevents Memory Leaks: Properly closing files helps avoid memory and file handle leaks, which can affect system performance.\n",
        "- Prevents File Corruption: It helps in preventing file corruption, especially when multiple programs or processes access the file."
      ],
      "metadata": {
        "id": "WuufGOYy2BNF"
      }
    },
    {
      "cell_type": "markdown",
      "source": [
        "Q20. What is the difference between file.read() and file.readline() in Python?\n",
        "- file.read(): Reads the entire content of the file as a single string. Useful for loading all data at once.\n",
        "- file.readline(): Reads the next line from the file each time it is called. Useful for reading the file line by line."
      ],
      "metadata": {
        "id": "xjJ1wAcc2KDy"
      }
    },
    {
      "cell_type": "markdown",
      "source": [
        "Q21. What is the logging module in Python used for?\n",
        "- The logging module in Python is used for recording log messages from a program. It provides a flexible framework for tracking events, errors, and debugging information, with different log levels to control the verbosity and severity of the logged messages. It helps in monitoring and troubleshooting programs, especially in production environments."
      ],
      "metadata": {
        "id": "NnSzIiaw2VkM"
      }
    },
    {
      "cell_type": "markdown",
      "source": [
        "Q22. What is the os module in Python used for in file handling?\n",
        "- The os module in Python provides a way to interact with the operating system, allowing file and directory manipulation, path operations, and working with system-level functions.\n",
        "\n",
        "\n",
        "\n",
        "\n",
        "\n",
        "\n"
      ],
      "metadata": {
        "id": "2-vl4mmD2j6l"
      }
    },
    {
      "cell_type": "markdown",
      "source": [
        "Q23. What are the challenges associated with memory management in Python?\n",
        "- Reference Counting Limitations: Circular references can prevent proper memory deallocation due to the reference count not reaching zero.\n",
        "- Garbage Collection Overhead: The cyclic garbage collector may introduce performance overhead, especially in memory-intensive applications.\n",
        "- Memory Fragmentation: As objects are allocated and deallocated, memory can become fragmented, affecting performance.\n",
        "- Memory Leaks: Improperly managed references, such as lingering references to unused objects, can lead to memory leaks."
      ],
      "metadata": {
        "id": "0fOSGjSE2uyT"
      }
    },
    {
      "cell_type": "markdown",
      "source": [
        "Q24. How do you raise an exception manually in Python?\n",
        "- Raising an exception manually in Python is done using the raise keyword followed by the exception to be raised. For example:\n",
        "```\n",
        "raise Exception(\"This is a custom error message\")\n",
        "```\n",
        "\n"
      ],
      "metadata": {
        "id": "alwN2_ZO27PM"
      }
    },
    {
      "cell_type": "markdown",
      "source": [
        "Q25. Why is it important to use multithreading in certain applications?\n",
        "- Improved Performance: Multithreading allows concurrent execution of tasks, leading to better utilization of CPU resources and faster execution, especially for I/O-bound operations.\n",
        "- Responsiveness: It helps in maintaining responsiveness in applications, like GUI or web servers, by running tasks in the background without blocking the main process.\n",
        "- Efficient Resource Utilization: By allowing threads to run concurrently, multithreading can make better use of multicore processors.\n",
        "- Parallelism: In CPU-bound tasks, multithreading can provide parallelism, reducing the time taken for processing large amounts of data."
      ],
      "metadata": {
        "id": "8qJNmhOV3EpD"
      }
    },
    {
      "cell_type": "markdown",
      "source": [
        "# **Practical Questions**"
      ],
      "metadata": {
        "id": "fg9Ua6NS3PHJ"
      }
    },
    {
      "cell_type": "code",
      "source": [
        "# Q1. How can you open a file for writing in Python and write a string to it?\n",
        "\n",
        "\n",
        "with open('example.txt', 'w') as file:\n",
        "    file.write(\"This is a string written to the file.\")"
      ],
      "metadata": {
        "id": "z8SfntPB3SKj"
      },
      "execution_count": 1,
      "outputs": []
    },
    {
      "cell_type": "code",
      "source": [
        "# Q2. Write a Python program to read the contents of a file and print each line.\n",
        "\n",
        "\n",
        "with open('example.txt', 'r') as file:\n",
        "    for line in file:\n",
        "        print(line.strip())"
      ],
      "metadata": {
        "colab": {
          "base_uri": "https://localhost:8080/"
        },
        "id": "NRpxnveO3hQi",
        "outputId": "8981294e-6ffa-41d4-ba1a-fce861f1d7d9"
      },
      "execution_count": 2,
      "outputs": [
        {
          "output_type": "stream",
          "name": "stdout",
          "text": [
            "This is a string written to the file.\n"
          ]
        }
      ]
    },
    {
      "cell_type": "code",
      "source": [
        "# Q3.  How would you handle a case where the file doesn't exist while trying to open it for reading?\n",
        "\n",
        "\n",
        "try:\n",
        "    with open('example.txt', 'r') as file:\n",
        "        for line in file:\n",
        "            print(line.strip())\n",
        "except FileNotFoundError:\n",
        "  print(\"The file does not exist.\")"
      ],
      "metadata": {
        "colab": {
          "base_uri": "https://localhost:8080/"
        },
        "id": "628ZCpJd3pia",
        "outputId": "a71e32f7-d53a-4591-9528-6a27299afc05"
      },
      "execution_count": 3,
      "outputs": [
        {
          "output_type": "stream",
          "name": "stdout",
          "text": [
            "This is a string written to the file.\n"
          ]
        }
      ]
    },
    {
      "cell_type": "code",
      "source": [
        "# Q4. Write a Python script that reads from one file and writes its content to another file.\n",
        "\n",
        "\n",
        "try:\n",
        "    with open('source.txt', 'r') as source_file, open('destination.txt', 'w') as destination_file:\n",
        "        content = source_file.read()\n",
        "        destination_file.write(content)\n",
        "except FileNotFoundError:\n",
        "    print(\"The source file does not exist. Please check the file path.\")"
      ],
      "metadata": {
        "colab": {
          "base_uri": "https://localhost:8080/"
        },
        "id": "ubupZNif4BDx",
        "outputId": "5ad5815d-875d-43cf-840d-e0dbee98eca4"
      },
      "execution_count": 6,
      "outputs": [
        {
          "output_type": "stream",
          "name": "stdout",
          "text": [
            "The source file does not exist. Please check the file path.\n"
          ]
        }
      ]
    },
    {
      "cell_type": "code",
      "source": [
        "# Q5. How would you catch and handle division by zero error in Python?\n",
        "\n",
        "try:\n",
        "    result = 10 / 0\n",
        "except ZeroDivisionError:\n",
        "    print(\"Error: Division by zero is not allowed.\")"
      ],
      "metadata": {
        "colab": {
          "base_uri": "https://localhost:8080/"
        },
        "id": "P-BvIPYF4MSx",
        "outputId": "a36790f5-c99a-4569-c8ac-4ea3acf18888"
      },
      "execution_count": 7,
      "outputs": [
        {
          "output_type": "stream",
          "name": "stdout",
          "text": [
            "Error: Division by zero is not allowed.\n"
          ]
        }
      ]
    },
    {
      "cell_type": "code",
      "source": [
        "# Q6. Write a Python program that logs an error message to a log file when a division by zero exception occurs.\n",
        "\n",
        "import logging\n",
        "\n",
        "logging.basicConfig(filename='error_log.txt', level=logging.ERROR,\n",
        "                    format='%(asctime)s - %(levelname)s - %(message)s')\n",
        "\n",
        "try:\n",
        "    result = 10 / 0\n",
        "except ZeroDivisionError as e:\n",
        "    logging.error(\"Error: Division by zero occurred - %s\", e)\n",
        "    print(\"Error: Division by zero occurred. Check the log file for details.\")\n"
      ],
      "metadata": {
        "colab": {
          "base_uri": "https://localhost:8080/"
        },
        "id": "wQVhPrBf4qQY",
        "outputId": "71feb2b9-ef3d-43fb-ce17-fef6575f8a17"
      },
      "execution_count": 9,
      "outputs": [
        {
          "output_type": "stream",
          "name": "stderr",
          "text": [
            "ERROR:root:Error: Division by zero occurred - division by zero\n"
          ]
        },
        {
          "output_type": "stream",
          "name": "stdout",
          "text": [
            "Error: Division by zero occurred. Check the log file for details.\n"
          ]
        }
      ]
    },
    {
      "cell_type": "code",
      "source": [
        "# Q7. How do you log information at different levels (INFO, ERROR, WARNING) in Python using the logging module?\n",
        "\n",
        "import logging\n",
        "\n",
        "logging.basicConfig(level=logging.DEBUG,\n",
        "                    format='%(asctime)s - %(levelname)s - %(message)s',\n",
        "                    filename='application.log')\n",
        "\n",
        "logging.debug(\"This is a debug message.\")\n",
        "logging.info(\"This is an info message.\")\n",
        "logging.warning(\"This is a warning message.\")\n",
        "logging.error(\"This is an error message.\")\n",
        "logging.critical(\"This is a critical error message.\")"
      ],
      "metadata": {
        "colab": {
          "base_uri": "https://localhost:8080/"
        },
        "id": "mMx7-TqW4yme",
        "outputId": "8c8eb4bd-05eb-44a6-9fba-59a42955f720"
      },
      "execution_count": 11,
      "outputs": [
        {
          "output_type": "stream",
          "name": "stderr",
          "text": [
            "WARNING:root:This is a warning message.\n",
            "ERROR:root:This is an error message.\n",
            "CRITICAL:root:This is a critical error message.\n"
          ]
        }
      ]
    },
    {
      "cell_type": "code",
      "source": [
        "# Q8. Write a program to handle a file opening error using exception handling.\n",
        "\n",
        "try:\n",
        "    with open('example.txt', 'r') as file:\n",
        "        content = file.read()\n",
        "        print(content)\n",
        "except FileNotFoundError:\n",
        "    print(\"Error: The file does not exist.\")\n",
        "except IOError:\n",
        "    print(\"Error: An I/O error occurred while opening the file.\")"
      ],
      "metadata": {
        "colab": {
          "base_uri": "https://localhost:8080/"
        },
        "id": "hxvIN6qg48jr",
        "outputId": "13b587a6-cf4e-485a-d045-bc80663fcd14"
      },
      "execution_count": 13,
      "outputs": [
        {
          "output_type": "stream",
          "name": "stdout",
          "text": [
            "This is a string written to the file.\n"
          ]
        }
      ]
    },
    {
      "cell_type": "code",
      "source": [
        "# Q9. How can you read a file line by line and store its content in a list in Python?\n",
        "\n",
        "\n",
        "lines = []\n",
        "\n",
        "with open('example.txt', 'r') as file:\n",
        "    lines = file.readlines()\n",
        "\n",
        "print(lines)"
      ],
      "metadata": {
        "colab": {
          "base_uri": "https://localhost:8080/"
        },
        "id": "H9av1CJn5L_S",
        "outputId": "ae8d817a-6fac-4a31-ed24-fee36734fb62"
      },
      "execution_count": 15,
      "outputs": [
        {
          "output_type": "stream",
          "name": "stdout",
          "text": [
            "['This is a string written to the file.']\n"
          ]
        }
      ]
    },
    {
      "cell_type": "code",
      "source": [
        "# Q10. How can you append data to an existing file in Python?\n",
        "\n",
        "with open('example.txt', 'a') as file:\n",
        "\n",
        "    file.write(\"This is the new data being appended to the file.\\n\")\n",
        "\n",
        "print(\"Data has been appended to the file.\")"
      ],
      "metadata": {
        "colab": {
          "base_uri": "https://localhost:8080/"
        },
        "id": "O5jFqEzZ5ZTe",
        "outputId": "0952e0dd-420e-4c9b-c5e2-11ba78884aba"
      },
      "execution_count": 17,
      "outputs": [
        {
          "output_type": "stream",
          "name": "stdout",
          "text": [
            "Data has been appended to the file.\n"
          ]
        }
      ]
    },
    {
      "cell_type": "code",
      "source": [
        "# Q11. Write a Python program that uses a try-except block to handle an error when attempting to access a dictionary key that doesn't exist.\n",
        "\n",
        "\n",
        "my_dict = {'name': 'John', 'age': 30}\n",
        "\n",
        "try:\n",
        "    value = my_dict['address']\n",
        "except KeyError:\n",
        "    print(\"Error: The key 'address' does not exist in the dictionary.\")"
      ],
      "metadata": {
        "colab": {
          "base_uri": "https://localhost:8080/"
        },
        "id": "B7LVWdYN5kBk",
        "outputId": "388c8c77-2aa8-4129-a662-e98b8931dfe4"
      },
      "execution_count": 20,
      "outputs": [
        {
          "output_type": "stream",
          "name": "stdout",
          "text": [
            "Error: The key 'address' does not exist in the dictionary.\n"
          ]
        }
      ]
    },
    {
      "cell_type": "code",
      "source": [
        "# Q12. Write a program that demonstrates using multiple except blocks to handle different types of exceptions.\n",
        "\n",
        "try:\n",
        "    num = int(input(\"Enter a number: \"))\n",
        "    result = 10 / num\n",
        "    print(f\"Result: {result}\")\n",
        "\n",
        "    my_dict = {'name': 'Alice'}\n",
        "    print(my_dict['age'])\n",
        "\n",
        "except ZeroDivisionError:\n",
        "    print(\"Error: Cannot divide by zero.\")\n",
        "\n",
        "except ValueError:\n",
        "    print(\"Error: Invalid input. Please enter a valid integer.\")\n",
        "\n",
        "except KeyError:\n",
        "    print(\"Error: The key 'age' does not exist in the dictionary.\")\n",
        "\n",
        "except Exception as e:\n",
        "    print(f\"An unexpected error occurred: {e}\")"
      ],
      "metadata": {
        "colab": {
          "base_uri": "https://localhost:8080/"
        },
        "id": "ky8gxu-g5x54",
        "outputId": "a610c435-acb4-4c8c-ebd6-acc038b1bee9"
      },
      "execution_count": 26,
      "outputs": [
        {
          "output_type": "stream",
          "name": "stdout",
          "text": [
            "Enter a number: 20\n",
            "Result: 0.5\n",
            "Error: The key 'age' does not exist in the dictionary.\n"
          ]
        }
      ]
    },
    {
      "cell_type": "code",
      "source": [
        "# Q13.  How would you check if a file exists before attempting to read it in Python?\n",
        "\n",
        "import os\n",
        "\n",
        "file_path = 'example.txt'\n",
        "\n",
        "if os.path.exists(file_path):\n",
        "    with open(file_path, 'r') as file:\n",
        "        content = file.read()\n",
        "        print(content)\n",
        "else:\n",
        "    print(\"The file does not exist.\")"
      ],
      "metadata": {
        "colab": {
          "base_uri": "https://localhost:8080/"
        },
        "id": "si4bLDy250eG",
        "outputId": "3b62ed22-85ea-449d-f085-ca4e433a5114"
      },
      "execution_count": 27,
      "outputs": [
        {
          "output_type": "stream",
          "name": "stdout",
          "text": [
            "This is a string written to the file.This is the new data being appended to the file.\n",
            "\n"
          ]
        }
      ]
    },
    {
      "cell_type": "code",
      "source": [
        "# Q14. Write a program that uses the logging module to log both informational and error messages.\n",
        "\n",
        "\n",
        "import logging\n",
        "\n",
        "logging.basicConfig(filename='app.log', level=logging.INFO,\n",
        "                    format='%(asctime)s - %(levelname)s - %(message)s')\n",
        "\n",
        "logging.info(\"This is an informational message.\")\n",
        "\n",
        "try:\n",
        "    result = 10 / 0\n",
        "except ZeroDivisionError as e:\n",
        "    logging.error(\"Error: Division by zero occurred. Details: %s\", e)\n",
        "\n",
        "logging.info(\"The program has completed.\")"
      ],
      "metadata": {
        "colab": {
          "base_uri": "https://localhost:8080/"
        },
        "id": "3rEAR_zK6D3A",
        "outputId": "68de9c80-63e2-4ad5-9944-1ca8eef1a47f"
      },
      "execution_count": 28,
      "outputs": [
        {
          "output_type": "stream",
          "name": "stderr",
          "text": [
            "ERROR:root:Error: Division by zero occurred. Details: division by zero\n"
          ]
        }
      ]
    },
    {
      "cell_type": "code",
      "source": [
        "# Q15. Write a Python program that prints the content of a file and handles the case when the file is empty.\n",
        "\n",
        "try:\n",
        "    with open('example.txt', 'r') as file:\n",
        "        content = file.read()\n",
        "\n",
        "        if not content:\n",
        "            print(\"The file is empty.\")\n",
        "        else:\n",
        "            print(\"File content:\")\n",
        "            print(content)\n",
        "except FileNotFoundError:\n",
        "    print(\"Error: The file does not exist.\")"
      ],
      "metadata": {
        "colab": {
          "base_uri": "https://localhost:8080/"
        },
        "id": "LpGpfrQI6EvQ",
        "outputId": "5748f862-2e41-4d40-cc16-289475fff223"
      },
      "execution_count": 29,
      "outputs": [
        {
          "output_type": "stream",
          "name": "stdout",
          "text": [
            "File content:\n",
            "This is a string written to the file.This is the new data being appended to the file.\n",
            "\n"
          ]
        }
      ]
    },
    {
      "cell_type": "code",
      "source": [
        "# Q16. Demonstrate how to use memory profiling to check the memory usage of a small program.\n",
        "\n",
        "\n",
        "from memory_profiler import profile\n",
        "\n",
        "@profile\n",
        "def my_function():\n",
        "\n",
        "    a = [i for i in range(10000)]\n",
        "    b = [i**2 for i in range(10000)]\n",
        "    return a, b\n",
        "\n",
        "my_function()"
      ],
      "metadata": {
        "id": "j4PWWoz96Fxq"
      },
      "execution_count": null,
      "outputs": []
    },
    {
      "cell_type": "markdown",
      "source": [
        "![Screenshot 2024-12-29 015221.png](data:image/png;base64,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)"
      ],
      "metadata": {
        "id": "EFX9whMq77bE"
      }
    },
    {
      "cell_type": "code",
      "source": [
        "# Q17. Write a Python program to create and write a list of numbers to a file, one number per line.\n",
        "\n",
        "\n",
        "numbers = [1, 2, 3, 4, 5, 6, 7, 8, 9, 10]\n",
        "\n",
        "with open('numbers.txt', 'w') as file:\n",
        "    for number in numbers:\n",
        "        file.write(f\"{number}\\n\")\n",
        "\n",
        "print(\"Numbers have been written to 'numbers.txt'.\")"
      ],
      "metadata": {
        "colab": {
          "base_uri": "https://localhost:8080/"
        },
        "id": "5Dr2vMCq6G99",
        "outputId": "58a02a75-bcf1-4237-ed35-a6f1b8145aac"
      },
      "execution_count": 31,
      "outputs": [
        {
          "output_type": "stream",
          "name": "stdout",
          "text": [
            "Numbers have been written to 'numbers.txt'.\n"
          ]
        }
      ]
    },
    {
      "cell_type": "code",
      "source": [
        "# Q18. How would you implement a basic logging setup that logs to a file with rotation after 1MB?\n",
        "\n",
        "\n",
        "import logging\n",
        "from logging.handlers import RotatingFileHandler\n",
        "\n",
        "handler = RotatingFileHandler('app.log', maxBytes=1*1024*1024, backupCount=3)\n",
        "\n",
        "logging.basicConfig(\n",
        "    level=logging.INFO,\n",
        "    format='%(asctime)s - %(levelname)s - %(message)s',\n",
        "    handlers=[handler]\n",
        ")\n",
        "\n",
        "for i in range(10000):\n",
        "    logging.info(f\"This is log message number {i+1}\")\n",
        "\n",
        "print(\"Logging setup complete. Check 'app.log' for the logs.\")"
      ],
      "metadata": {
        "colab": {
          "base_uri": "https://localhost:8080/"
        },
        "id": "PEfF0pQT8Ukj",
        "outputId": "e60c3cf2-094e-412e-f20c-23c04d812e2a"
      },
      "execution_count": 39,
      "outputs": [
        {
          "output_type": "stream",
          "name": "stdout",
          "text": [
            "Logging setup complete. Check 'app.log' for the logs.\n"
          ]
        }
      ]
    },
    {
      "cell_type": "code",
      "source": [
        "# Q19. Write a program that handles both IndexError and KeyError using a try-except block.\n",
        "\n",
        "\n",
        "my_list = [1, 2, 3]\n",
        "my_dict = {'name': 'John', 'age': 30}\n",
        "\n",
        "try:\n",
        "    print(my_list[5])\n",
        "    print(my_dict['address'])\n",
        "\n",
        "except IndexError:\n",
        "    print(\"Error: Index is out of range in the list.\")\n",
        "\n",
        "except KeyError:\n",
        "    print(\"Error: The key does not exist in the dictionary.\")"
      ],
      "metadata": {
        "colab": {
          "base_uri": "https://localhost:8080/"
        },
        "id": "Kk12LAOS8YFZ",
        "outputId": "39f1d7ff-4cbb-4b78-8979-91c860bb00bb"
      },
      "execution_count": 40,
      "outputs": [
        {
          "output_type": "stream",
          "name": "stdout",
          "text": [
            "Error: Index is out of range in the list.\n"
          ]
        }
      ]
    },
    {
      "cell_type": "code",
      "source": [
        "# Q20. How would you open a file and read its contents using a context manager in Python?\n",
        "\n",
        "\n",
        "with open('example.txt', 'r') as file:\n",
        "    content = file.read()\n",
        "\n",
        "print(content)"
      ],
      "metadata": {
        "colab": {
          "base_uri": "https://localhost:8080/"
        },
        "id": "5JgZAiGD8Zc7",
        "outputId": "220cf39b-17d6-4406-8d3d-5eadd28a7bb3"
      },
      "execution_count": 41,
      "outputs": [
        {
          "output_type": "stream",
          "name": "stdout",
          "text": [
            "This is a string written to the file.This is the new data being appended to the file.\n",
            "\n"
          ]
        }
      ]
    },
    {
      "cell_type": "code",
      "source": [
        "# Q21. Write a Python program that reads a file and prints the number of occurrences of a specific word.\n",
        "\n",
        "\n",
        "def count_word_occurrences(filename, word):\n",
        "    try:\n",
        "        with open(filename, 'r') as file:\n",
        "            content = file.read()\n",
        "\n",
        "        word_count = content.lower().split().count(word.lower())\n",
        "\n",
        "        print(f\"The word '{word}' appears {word_count} times in the file.\")\n",
        "\n",
        "    except FileNotFoundError:\n",
        "        print(f\"Error: The file '{filename}' does not exist.\")\n",
        "\n",
        "filename = 'example.txt'\n",
        "word_to_count = 'python'\n",
        "count_word_occurrences(filename, word_to_count)"
      ],
      "metadata": {
        "colab": {
          "base_uri": "https://localhost:8080/"
        },
        "id": "K6bfdPwk8bKg",
        "outputId": "406996cf-6e9f-4e8b-8e5a-09637ba6a022"
      },
      "execution_count": 42,
      "outputs": [
        {
          "output_type": "stream",
          "name": "stdout",
          "text": [
            "The word 'python' appears 0 times in the file.\n"
          ]
        }
      ]
    },
    {
      "cell_type": "code",
      "source": [
        "# Q22. How can you check if a file is empty before attempting to read its contents?\n",
        "\n",
        "\n",
        "import os\n",
        "\n",
        "file_path = 'example.txt'\n",
        "\n",
        "if os.path.exists(file_path) and os.stat(file_path).st_size == 0:\n",
        "    print(\"The file is empty.\")\n",
        "else:\n",
        "    with open(file_path, 'r') as file:\n",
        "        content = file.read()\n",
        "        print(content)"
      ],
      "metadata": {
        "colab": {
          "base_uri": "https://localhost:8080/"
        },
        "id": "2UHkF-7e8dEI",
        "outputId": "ddeb9ddf-0773-443e-f0f1-b082228f92a7"
      },
      "execution_count": 43,
      "outputs": [
        {
          "output_type": "stream",
          "name": "stdout",
          "text": [
            "This is a string written to the file.This is the new data being appended to the file.\n",
            "\n"
          ]
        }
      ]
    },
    {
      "cell_type": "code",
      "source": [
        "# Q23. Write a Python program that writes to a log file when an error occurs during file handling.\n",
        "\n",
        "\n",
        "import logging\n",
        "\n",
        "logging.basicConfig(\n",
        "    filename='file_handling_errors.log',\n",
        "    level=logging.ERROR,\n",
        "    format='%(asctime)s - %(levelname)s - %(message)s'\n",
        ")\n",
        "\n",
        "def read_file(filename):\n",
        "    try:\n",
        "        with open(filename, 'r') as file:\n",
        "            content = file.read()\n",
        "            print(content)\n",
        "\n",
        "    except FileNotFoundError:\n",
        "        logging.error(f\"File '{filename}' not found.\")\n",
        "        print(f\"Error: File '{filename}' not found.\")\n",
        "\n",
        "    except PermissionError:\n",
        "        logging.error(f\"Permission denied when accessing '{filename}'.\")\n",
        "        print(f\"Error: Permission denied for file '{filename}'.\")\n",
        "\n",
        "    except Exception as e:\n",
        "        logging.error(f\"An unexpected error occurred while handling '{filename}': {e}\")\n",
        "        print(f\"An unexpected error occurred: {e}\")\n",
        "\n",
        "read_file('example.txt')"
      ],
      "metadata": {
        "colab": {
          "base_uri": "https://localhost:8080/"
        },
        "id": "F4kq5rPE8eVi",
        "outputId": "557a0be8-7e33-471b-f1ef-f58816f8d68d"
      },
      "execution_count": 44,
      "outputs": [
        {
          "output_type": "stream",
          "name": "stdout",
          "text": [
            "This is a string written to the file.This is the new data being appended to the file.\n",
            "\n"
          ]
        }
      ]
    },
    {
      "cell_type": "markdown",
      "source": [
        "# **Thank You Sir/Ma'am**\n",
        "**Your Sincerely, Darshan Panchal**"
      ],
      "metadata": {
        "id": "U80nO67w-gcf"
      }
    }
  ]
}